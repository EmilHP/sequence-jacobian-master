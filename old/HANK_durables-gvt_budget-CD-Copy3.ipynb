{
 "cells": [
  {
   "cell_type": "markdown",
   "metadata": {},
   "source": [
    "## 0. Import packages"
   ]
  },
  {
   "cell_type": "code",
   "execution_count": 1,
   "metadata": {},
   "outputs": [],
   "source": [
    "# model imports\n",
    "\n",
    "import numpy as np\n",
    "\n",
    "import utils\n",
    "from het_block import het\n",
    "import simple_block as sim\n",
    "from simple_block import simple\n",
    "from rouwenhorst import rouwenhorst\n",
    "import jacobian as jac\n",
    "import nonlinear\n",
    "import HANK_durables_CES as hank\n",
    "import determinacy as det\n",
    "from scipy import optimize\n",
    "import Monte_Carlo\n",
    "\n",
    "# DAG imports\n",
    "import networkx as nx\n",
    "import matplotlib.pyplot as plt\n",
    "import pylab\n",
    "import pandas as pd\n",
    "\n",
    "from matplotlib import rc\n",
    "rc('font',**{'family':'sans-serif','sans-serif':['Helvetica']})\n",
    "## for Palatino and other serif fonts use:\n",
    "#rc('font',**{'family':'serif','serif':['Palatino']})\n",
    "rc('text', usetex=True)"
   ]
  },
  {
   "cell_type": "markdown",
   "metadata": {},
   "source": [
    "<a id=\"2-calibration\"></a>\n",
    "\n",
    "## 1. Calibrating the steady state\n"
   ]
  },
  {
   "cell_type": "code",
   "execution_count": 2,
   "metadata": {},
   "outputs": [],
   "source": [
    "household = hank.household ## hh theta 0.5"
   ]
  },
  {
   "cell_type": "code",
   "execution_count": 3,
   "metadata": {},
   "outputs": [],
   "source": [
    "def hank_ss(Bg_Y=0.0,beta_guess=0.9745, r=0.03/4, sigma_N=1.0, sigma_D=2.0, delta=0.1, alpha = 10.0, vareps=10.0, tau_e = 1,  rho_e=0.9777, sigma_e=0.1928,\n",
    "            phi_pi=1.5, phi_y = 0.125, theta = 2.5, xi = 105, Ne=7, Nb=80, Nd=90,  bmax=200, dmax=135):\n",
    "    \"\"\"Solve steady state of full GE model. Calibrate beta to hit target interest rate where parameters adjust to get N=1, Y=1, Q=1\"\"\"\n",
    "\n",
    "    # a. set up grids\n",
    "    psi = 0.5 # \"bmin\":: psi*Y, Y=1\n",
    "    b_grid = utils.agrid(amax=bmax, n=Nb, amin=-psi)\n",
    "    d_grid = utils.agrid(amax=dmax, n=Nd, amin=1e-6)\n",
    "    e_grid_log, e_ergodic, Pi_e = rouwenhorst(rho_e,sigma_e,Ne)\n",
    "    e_grid = np.exp(e_grid_log) / np.sum(e_ergodic * np.exp(e_grid_log)) # normalize so E[e]=1\n",
    "    Nk = Nd # number of grid points for lagrange multiplier grid\n",
    "    kmax = 1.0 # 1 = max for lagrange mult.\n",
    "    k_grid = utils.agrid(amax=kmax,n=Nk,amin=0)\n",
    "     \n",
    "    # b. solve analytically what we can (zero inflation s.s.)\n",
    "    N = 1.0 # as psi_N = W/P_n * 1/C, psi_N found after root finding\n",
    "    Q = 1.0 # as chi = C / (C+D), chi found after root finding\n",
    "    A = 1.0/N # s.s. TFP level, set such that Y = 1\n",
    "    markup_p_ss = vareps/(vareps-1) # P mark-up\n",
    "    P = 1.0 # numeriare\n",
    "    W = (A*P)/markup_p_ss\n",
    "    Y = A*N # Y = 1\n",
    "    P_n = P # price of non-durables, follows from retailer price relation\n",
    "    P_d = P # price of durables, follows from retailer price relation\n",
    "    Div = Y - N*(W/P) # s.s. profits\n",
    "    Bg = Bg_Y*Y\n",
    "    Tax = r*Bg\n",
    "    \n",
    "    #B_y moms['B_demand'] / (4*moms['Y'])\n",
    "\n",
    "    # c. initialize guess for policy function iteration\n",
    "    c = (b_grid[:, np.newaxis] + d_grid)/2\n",
    "    c[c<0] = 1e-8 # assert c>0\n",
    "    d = c \n",
    "    Vb = c**(-1/sigma_N) * np.ones((e_grid.shape[0], 1, 1))\n",
    "    Vd = d**(-1/sigma_N) * np.ones((e_grid.shape[0], 1, 1))\n",
    "    Vb[:] = 1 # stable for CES hh\n",
    "    Vd[:] = 1 # stable for CES hh\n",
    "        \n",
    "    # d. pre-compute RHS of combined F.O.C. optimality condition\n",
    "    P_d_p = P_d/P\n",
    "    rhs = P_d_p + alpha*((d_grid[:, np.newaxis]/d_grid[np.newaxis, :]) - (1-delta)) # P_d/P + partial Psi/partial d'\n",
    "\n",
    "    # e. define residual function\n",
    "    def residual(x0):\n",
    "\n",
    "        # a. solve household ss problem\n",
    "        out = household.ss(Vd=Vd, Vb=Vb, Pi_e=Pi_e, b_grid=b_grid, dg_grid=d_grid, k_grid=k_grid, e_grid=e_grid, e_ergodic=e_ergodic, sigma_N=sigma_N, sigma_D=sigma_D,\n",
    "                                 alpha=alpha,delta=delta,r=r,Div=Div,beta=x0,Ne=Ne,Nb=Nb,Nd=Nd,Nk=Nk,P=P,P_d=P_d,P_n=P_n,W=W,N=N,tau_e=tau_e,Tax=Tax)\n",
    "        \n",
    "        print(x0,[out['B'] - Bg],out['DG'],out['C'])\n",
    "                                 \n",
    "        return np.array([out['B'] - Bg]) # bonds are in zero net-supply\n",
    "\n",
    "    # f. solve for beta given asset market clearing\n",
    "    # i. call optimizer\n",
    "    result = optimize.root_scalar(residual,bracket=[1/(1+r)-0.05,1/(1+r)],method='bisect',rtol=1e-4) # cannot go higher than 1/(1+r)\n",
    "    # ii. save result\n",
    "    beta = result.root\n",
    "    \n",
    "\n",
    "    # g. extra evaluation for reporting\n",
    "    ss = household.ss(Vd=Vd, Vb=Vb, Pi_e=Pi_e, b_grid=b_grid, dg_grid=d_grid, k_grid=k_grid, e_grid=e_grid, e_ergodic=e_ergodic, sigma_N=sigma_N, sigma_D=sigma_D,\n",
    "                                 alpha=alpha,delta=delta,r=r,Div=Div,beta=beta,Ne=Ne,Nb=Nb,Nd=Nd,Nk=Nk,P=P,P_d=P_d,P_n=P_n,W=W,N=N,tau_e=tau_e,Tax=Tax)\n",
    "    \n",
    "    # h. update parameters that take adjustment for hitting targets in wage schedule and combined retailer FOC equations\n",
    "    psi_N = (W/P) * (1/ss['C'])\n",
    "    chi = ss['C']/(ss['C']+ss['C_D'])\n",
    "        \n",
    "    # h. add aggregate variables\n",
    "    ss.update({'phi_pi': phi_pi, 'phi_y': phi_y, 'Y': Y, 'Y_ss': Y, 'rstar': r, 'markup_p_ss': markup_p_ss, 'markup_p': markup_p_ss, 'A': A, 'Bg': Bg, 'N': N, 'P': P, 'Pi': P/P, 'W': W,\n",
    "               'chi': chi, 'psi_N': psi_N, 'dg_grid': d_grid, 'Q': Q, 'P_d': P_d, 'P_n': P_n, 'Div': Div, 'vareps': vareps, 'phi_pi': phi_pi, 'phi_y': phi_y,\n",
    "               'theta': theta, 'xi': xi, 'sigma_N': sigma_N, 'sigma_D': sigma_D, 'e_ergodic': e_ergodic,'ssflag': False}) # P_d=P_n=P+eps for numerical stability\n",
    "    return ss"
   ]
  },
  {
   "cell_type": "code",
   "execution_count": 4,
   "metadata": {},
   "outputs": [
    {
     "name": "stdout",
     "output_type": "stream",
     "text": [
      "0.9425558312655086 [-0.44524942632694475] 1.9940397526239129 0.6742519799896007\n"
     ]
    },
    {
     "name": "stderr",
     "output_type": "stream",
     "text": [
      "ERROR:root:Internal Python error in the inspect module.\n",
      "Below is the traceback from this internal error.\n",
      "\n"
     ]
    },
    {
     "name": "stdout",
     "output_type": "stream",
     "text": [
      "Traceback (most recent call last):\n",
      "  File \"C:\\Users\\nkl240\\AppData\\Local\\Continuum\\anaconda3\\lib\\site-packages\\IPython\\core\\interactiveshell.py\", line 3437, in run_code\n",
      "    exec(code_obj, self.user_global_ns, self.user_ns)\n",
      "  File \"<ipython-input-4-7709e697a8d9>\", line 1, in <module>\n",
      "    ss = hank_ss()\n",
      "  File \"<ipython-input-3-0793d8bc9296>\", line 57, in hank_ss\n",
      "    result = optimize.root_scalar(residual,bracket=[1/(1+r)-0.05,1/(1+r)],method='bisect',rtol=1e-4) # cannot go higher than 1/(1+r)\n",
      "  File \"C:\\Users\\nkl240\\AppData\\Local\\Continuum\\anaconda3\\lib\\site-packages\\scipy\\optimize\\_root_scalar.py\", line 249, in root_scalar\n",
      "    r, sol = methodc(f, a, b, args=args, **kwargs)\n",
      "  File \"C:\\Users\\nkl240\\AppData\\Local\\Continuum\\anaconda3\\lib\\site-packages\\scipy\\optimize\\zeros.py\", line 549, in bisect\n",
      "    r = _zeros._bisect(f, a, b, xtol, rtol, maxiter, args, full_output, disp)\n",
      "  File \"<ipython-input-3-0793d8bc9296>\", line 48, in residual\n",
      "    out = household.ss(Vd=Vd, Vb=Vb, Pi_e=Pi_e, b_grid=b_grid, dg_grid=d_grid, k_grid=k_grid, e_grid=e_grid, e_ergodic=e_ergodic, sigma_N=sigma_N, sigma_D=sigma_D,\n",
      "  File \"C:\\Users\\nkl240\\Dropbox\\Phd\\Projects\\Debortoli Gali Durable\\Durable_GE\\sequence-jacobian-master\\het_block.py\", line 162, in ss\n",
      "    D = self.dist_ss(Pi, sspol, grid, forward_tol, forward_maxit, D_seed, pi_seed)\n",
      "  File \"C:\\Users\\nkl240\\Dropbox\\Phd\\Projects\\Debortoli Gali Durable\\Durable_GE\\sequence-jacobian-master\\het_block.py\", line 518, in dist_ss\n",
      "    Dnew = self.forward_step(D, Pi_T, sspol_i, sspol_pi)\n",
      "  File \"C:\\Users\\nkl240\\Dropbox\\Phd\\Projects\\Debortoli Gali Durable\\Durable_GE\\sequence-jacobian-master\\het_block.py\", line 716, in forward_step\n",
      "    return utils.forward_step_2d(D, Pi_T, pol_i[p1], pol_i[p2], pol_pi[p1], pol_pi[p2])\n",
      "  File \"C:\\Users\\nkl240\\Dropbox\\Phd\\Projects\\Debortoli Gali Durable\\Durable_GE\\sequence-jacobian-master\\utils.py\", line 250, in forward_step_2d\n",
      "    return (Pi_T @ Dmid.reshape(nZ, -1)).reshape(nZ, nX, nY)\n",
      "KeyboardInterrupt\n",
      "\n",
      "During handling of the above exception, another exception occurred:\n",
      "\n",
      "Traceback (most recent call last):\n",
      "  File \"C:\\Users\\nkl240\\AppData\\Local\\Continuum\\anaconda3\\lib\\site-packages\\IPython\\core\\interactiveshell.py\", line 2061, in showtraceback\n",
      "    stb = value._render_traceback_()\n",
      "AttributeError: 'KeyboardInterrupt' object has no attribute '_render_traceback_'\n",
      "\n",
      "During handling of the above exception, another exception occurred:\n",
      "\n",
      "Traceback (most recent call last):\n",
      "  File \"C:\\Users\\nkl240\\AppData\\Local\\Continuum\\anaconda3\\lib\\site-packages\\IPython\\core\\ultratb.py\", line 1101, in get_records\n",
      "    return _fixed_getinnerframes(etb, number_of_lines_of_context, tb_offset)\n",
      "  File \"C:\\Users\\nkl240\\AppData\\Local\\Continuum\\anaconda3\\lib\\site-packages\\IPython\\core\\ultratb.py\", line 248, in wrapped\n",
      "    return f(*args, **kwargs)\n",
      "  File \"C:\\Users\\nkl240\\AppData\\Local\\Continuum\\anaconda3\\lib\\site-packages\\IPython\\core\\ultratb.py\", line 281, in _fixed_getinnerframes\n",
      "    records = fix_frame_records_filenames(inspect.getinnerframes(etb, context))\n",
      "  File \"C:\\Users\\nkl240\\AppData\\Local\\Continuum\\anaconda3\\lib\\inspect.py\", line 1503, in getinnerframes\n",
      "    frameinfo = (tb.tb_frame,) + getframeinfo(tb, context)\n",
      "  File \"C:\\Users\\nkl240\\AppData\\Local\\Continuum\\anaconda3\\lib\\inspect.py\", line 1461, in getframeinfo\n",
      "    filename = getsourcefile(frame) or getfile(frame)\n",
      "  File \"C:\\Users\\nkl240\\AppData\\Local\\Continuum\\anaconda3\\lib\\inspect.py\", line 708, in getsourcefile\n",
      "    if getattr(getmodule(object, filename), '__loader__', None) is not None:\n",
      "  File \"C:\\Users\\nkl240\\AppData\\Local\\Continuum\\anaconda3\\lib\\inspect.py\", line 754, in getmodule\n",
      "    os.path.realpath(f)] = module.__name__\n",
      "  File \"C:\\Users\\nkl240\\AppData\\Local\\Continuum\\anaconda3\\lib\\ntpath.py\", line 647, in realpath\n",
      "    path = _getfinalpathname(path)\n",
      "KeyboardInterrupt\n"
     ]
    },
    {
     "ename": "TypeError",
     "evalue": "object of type 'NoneType' has no len()",
     "output_type": "error",
     "traceback": [
      "\u001b[1;31m---------------------------------------------------------------------------\u001b[0m",
      "\u001b[1;31mKeyboardInterrupt\u001b[0m                         Traceback (most recent call last)",
      "    \u001b[1;31m[... skipping hidden 1 frame]\u001b[0m\n",
      "\u001b[1;32m<ipython-input-4-7709e697a8d9>\u001b[0m in \u001b[0;36m<module>\u001b[1;34m\u001b[0m\n\u001b[1;32m----> 1\u001b[1;33m \u001b[0mss\u001b[0m \u001b[1;33m=\u001b[0m \u001b[0mhank_ss\u001b[0m\u001b[1;33m(\u001b[0m\u001b[1;33m)\u001b[0m\u001b[1;33m\u001b[0m\u001b[1;33m\u001b[0m\u001b[0m\n\u001b[0m\u001b[0;32m      2\u001b[0m \u001b[0mss\u001b[0m\u001b[1;33m[\u001b[0m\u001b[1;34m'beta'\u001b[0m\u001b[1;33m]\u001b[0m\u001b[1;33m\u001b[0m\u001b[1;33m\u001b[0m\u001b[0m\n",
      "\u001b[1;32m<ipython-input-3-0793d8bc9296>\u001b[0m in \u001b[0;36mhank_ss\u001b[1;34m(Bg_Y, beta_guess, r, sigma_N, sigma_D, delta, alpha, vareps, tau_e, rho_e, sigma_e, phi_pi, phi_y, theta, xi, Ne, Nb, Nd, bmax, dmax)\u001b[0m\n\u001b[0;32m     56\u001b[0m     \u001b[1;31m# i. call optimizer\u001b[0m\u001b[1;33m\u001b[0m\u001b[1;33m\u001b[0m\u001b[1;33m\u001b[0m\u001b[0m\n\u001b[1;32m---> 57\u001b[1;33m     \u001b[0mresult\u001b[0m \u001b[1;33m=\u001b[0m \u001b[0moptimize\u001b[0m\u001b[1;33m.\u001b[0m\u001b[0mroot_scalar\u001b[0m\u001b[1;33m(\u001b[0m\u001b[0mresidual\u001b[0m\u001b[1;33m,\u001b[0m\u001b[0mbracket\u001b[0m\u001b[1;33m=\u001b[0m\u001b[1;33m[\u001b[0m\u001b[1;36m1\u001b[0m\u001b[1;33m/\u001b[0m\u001b[1;33m(\u001b[0m\u001b[1;36m1\u001b[0m\u001b[1;33m+\u001b[0m\u001b[0mr\u001b[0m\u001b[1;33m)\u001b[0m\u001b[1;33m-\u001b[0m\u001b[1;36m0.05\u001b[0m\u001b[1;33m,\u001b[0m\u001b[1;36m1\u001b[0m\u001b[1;33m/\u001b[0m\u001b[1;33m(\u001b[0m\u001b[1;36m1\u001b[0m\u001b[1;33m+\u001b[0m\u001b[0mr\u001b[0m\u001b[1;33m)\u001b[0m\u001b[1;33m]\u001b[0m\u001b[1;33m,\u001b[0m\u001b[0mmethod\u001b[0m\u001b[1;33m=\u001b[0m\u001b[1;34m'bisect'\u001b[0m\u001b[1;33m,\u001b[0m\u001b[0mrtol\u001b[0m\u001b[1;33m=\u001b[0m\u001b[1;36m1e-4\u001b[0m\u001b[1;33m)\u001b[0m \u001b[1;31m# cannot go higher than 1/(1+r)\u001b[0m\u001b[1;33m\u001b[0m\u001b[1;33m\u001b[0m\u001b[0m\n\u001b[0m\u001b[0;32m     58\u001b[0m     \u001b[1;31m# ii. save result\u001b[0m\u001b[1;33m\u001b[0m\u001b[1;33m\u001b[0m\u001b[1;33m\u001b[0m\u001b[0m\n",
      "\u001b[1;32m~\\AppData\\Local\\Continuum\\anaconda3\\lib\\site-packages\\scipy\\optimize\\_root_scalar.py\u001b[0m in \u001b[0;36mroot_scalar\u001b[1;34m(f, args, method, bracket, fprime, fprime2, x0, x1, xtol, rtol, maxiter, options)\u001b[0m\n\u001b[0;32m    248\u001b[0m         \u001b[0ma\u001b[0m\u001b[1;33m,\u001b[0m \u001b[0mb\u001b[0m \u001b[1;33m=\u001b[0m \u001b[0mbracket\u001b[0m\u001b[1;33m[\u001b[0m\u001b[1;33m:\u001b[0m\u001b[1;36m2\u001b[0m\u001b[1;33m]\u001b[0m\u001b[1;33m\u001b[0m\u001b[1;33m\u001b[0m\u001b[0m\n\u001b[1;32m--> 249\u001b[1;33m         \u001b[0mr\u001b[0m\u001b[1;33m,\u001b[0m \u001b[0msol\u001b[0m \u001b[1;33m=\u001b[0m \u001b[0mmethodc\u001b[0m\u001b[1;33m(\u001b[0m\u001b[0mf\u001b[0m\u001b[1;33m,\u001b[0m \u001b[0ma\u001b[0m\u001b[1;33m,\u001b[0m \u001b[0mb\u001b[0m\u001b[1;33m,\u001b[0m \u001b[0margs\u001b[0m\u001b[1;33m=\u001b[0m\u001b[0margs\u001b[0m\u001b[1;33m,\u001b[0m \u001b[1;33m**\u001b[0m\u001b[0mkwargs\u001b[0m\u001b[1;33m)\u001b[0m\u001b[1;33m\u001b[0m\u001b[1;33m\u001b[0m\u001b[0m\n\u001b[0m\u001b[0;32m    250\u001b[0m     \u001b[1;32melif\u001b[0m \u001b[0mmeth\u001b[0m \u001b[1;32min\u001b[0m \u001b[1;33m[\u001b[0m\u001b[1;34m'secant'\u001b[0m\u001b[1;33m]\u001b[0m\u001b[1;33m:\u001b[0m\u001b[1;33m\u001b[0m\u001b[1;33m\u001b[0m\u001b[0m\n",
      "\u001b[1;32m~\\AppData\\Local\\Continuum\\anaconda3\\lib\\site-packages\\scipy\\optimize\\zeros.py\u001b[0m in \u001b[0;36mbisect\u001b[1;34m(f, a, b, args, xtol, rtol, maxiter, full_output, disp)\u001b[0m\n\u001b[0;32m    548\u001b[0m         \u001b[1;32mraise\u001b[0m \u001b[0mValueError\u001b[0m\u001b[1;33m(\u001b[0m\u001b[1;34m\"rtol too small (%g < %g)\"\u001b[0m \u001b[1;33m%\u001b[0m \u001b[1;33m(\u001b[0m\u001b[0mrtol\u001b[0m\u001b[1;33m,\u001b[0m \u001b[0m_rtol\u001b[0m\u001b[1;33m)\u001b[0m\u001b[1;33m)\u001b[0m\u001b[1;33m\u001b[0m\u001b[1;33m\u001b[0m\u001b[0m\n\u001b[1;32m--> 549\u001b[1;33m     \u001b[0mr\u001b[0m \u001b[1;33m=\u001b[0m \u001b[0m_zeros\u001b[0m\u001b[1;33m.\u001b[0m\u001b[0m_bisect\u001b[0m\u001b[1;33m(\u001b[0m\u001b[0mf\u001b[0m\u001b[1;33m,\u001b[0m \u001b[0ma\u001b[0m\u001b[1;33m,\u001b[0m \u001b[0mb\u001b[0m\u001b[1;33m,\u001b[0m \u001b[0mxtol\u001b[0m\u001b[1;33m,\u001b[0m \u001b[0mrtol\u001b[0m\u001b[1;33m,\u001b[0m \u001b[0mmaxiter\u001b[0m\u001b[1;33m,\u001b[0m \u001b[0margs\u001b[0m\u001b[1;33m,\u001b[0m \u001b[0mfull_output\u001b[0m\u001b[1;33m,\u001b[0m \u001b[0mdisp\u001b[0m\u001b[1;33m)\u001b[0m\u001b[1;33m\u001b[0m\u001b[1;33m\u001b[0m\u001b[0m\n\u001b[0m\u001b[0;32m    550\u001b[0m     \u001b[1;32mreturn\u001b[0m \u001b[0mresults_c\u001b[0m\u001b[1;33m(\u001b[0m\u001b[0mfull_output\u001b[0m\u001b[1;33m,\u001b[0m \u001b[0mr\u001b[0m\u001b[1;33m)\u001b[0m\u001b[1;33m\u001b[0m\u001b[1;33m\u001b[0m\u001b[0m\n",
      "\u001b[1;32m<ipython-input-3-0793d8bc9296>\u001b[0m in \u001b[0;36mresidual\u001b[1;34m(x0)\u001b[0m\n\u001b[0;32m     47\u001b[0m         \u001b[1;31m# a. solve household ss problem\u001b[0m\u001b[1;33m\u001b[0m\u001b[1;33m\u001b[0m\u001b[1;33m\u001b[0m\u001b[0m\n\u001b[1;32m---> 48\u001b[1;33m         out = household.ss(Vd=Vd, Vb=Vb, Pi_e=Pi_e, b_grid=b_grid, dg_grid=d_grid, k_grid=k_grid, e_grid=e_grid, e_ergodic=e_ergodic, sigma_N=sigma_N, sigma_D=sigma_D,\n\u001b[0m\u001b[0;32m     49\u001b[0m                                  alpha=alpha,delta=delta,r=r,Div=Div,beta=x0,Ne=Ne,Nb=Nb,Nd=Nd,Nk=Nk,P=P,P_d=P_d,P_n=P_n,W=W,N=N,tau_e=tau_e,Tax=Tax)\n",
      "\u001b[1;32m~\\Dropbox\\Phd\\Projects\\Debortoli Gali Durable\\Durable_GE\\sequence-jacobian-master\\het_block.py\u001b[0m in \u001b[0;36mss\u001b[1;34m(self, backward_tol, backward_maxit, forward_tol, forward_maxit, **kwargs)\u001b[0m\n\u001b[0;32m    161\u001b[0m         \u001b[1;31m# run forward iteration\u001b[0m\u001b[1;33m\u001b[0m\u001b[1;33m\u001b[0m\u001b[1;33m\u001b[0m\u001b[0m\n\u001b[1;32m--> 162\u001b[1;33m         \u001b[0mD\u001b[0m \u001b[1;33m=\u001b[0m \u001b[0mself\u001b[0m\u001b[1;33m.\u001b[0m\u001b[0mdist_ss\u001b[0m\u001b[1;33m(\u001b[0m\u001b[0mPi\u001b[0m\u001b[1;33m,\u001b[0m \u001b[0msspol\u001b[0m\u001b[1;33m,\u001b[0m \u001b[0mgrid\u001b[0m\u001b[1;33m,\u001b[0m \u001b[0mforward_tol\u001b[0m\u001b[1;33m,\u001b[0m \u001b[0mforward_maxit\u001b[0m\u001b[1;33m,\u001b[0m \u001b[0mD_seed\u001b[0m\u001b[1;33m,\u001b[0m \u001b[0mpi_seed\u001b[0m\u001b[1;33m)\u001b[0m\u001b[1;33m\u001b[0m\u001b[1;33m\u001b[0m\u001b[0m\n\u001b[0m\u001b[0;32m    163\u001b[0m \u001b[1;33m\u001b[0m\u001b[0m\n",
      "\u001b[1;32m~\\Dropbox\\Phd\\Projects\\Debortoli Gali Durable\\Durable_GE\\sequence-jacobian-master\\het_block.py\u001b[0m in \u001b[0;36mdist_ss\u001b[1;34m(self, Pi, sspol, grid, tol, maxit, D_seed, pi_seed)\u001b[0m\n\u001b[0;32m    517\u001b[0m         \u001b[1;32mfor\u001b[0m \u001b[0mit\u001b[0m \u001b[1;32min\u001b[0m \u001b[0mrange\u001b[0m\u001b[1;33m(\u001b[0m\u001b[0mmaxit\u001b[0m\u001b[1;33m)\u001b[0m\u001b[1;33m:\u001b[0m\u001b[1;33m\u001b[0m\u001b[1;33m\u001b[0m\u001b[0m\n\u001b[1;32m--> 518\u001b[1;33m             \u001b[0mDnew\u001b[0m \u001b[1;33m=\u001b[0m \u001b[0mself\u001b[0m\u001b[1;33m.\u001b[0m\u001b[0mforward_step\u001b[0m\u001b[1;33m(\u001b[0m\u001b[0mD\u001b[0m\u001b[1;33m,\u001b[0m \u001b[0mPi_T\u001b[0m\u001b[1;33m,\u001b[0m \u001b[0msspol_i\u001b[0m\u001b[1;33m,\u001b[0m \u001b[0msspol_pi\u001b[0m\u001b[1;33m)\u001b[0m\u001b[1;33m\u001b[0m\u001b[1;33m\u001b[0m\u001b[0m\n\u001b[0m\u001b[0;32m    519\u001b[0m \u001b[1;33m\u001b[0m\u001b[0m\n",
      "\u001b[1;32m~\\Dropbox\\Phd\\Projects\\Debortoli Gali Durable\\Durable_GE\\sequence-jacobian-master\\het_block.py\u001b[0m in \u001b[0;36mforward_step\u001b[1;34m(self, D, Pi_T, pol_i, pol_pi)\u001b[0m\n\u001b[0;32m    715\u001b[0m             \u001b[0mp1\u001b[0m\u001b[1;33m,\u001b[0m \u001b[0mp2\u001b[0m \u001b[1;33m=\u001b[0m \u001b[0mself\u001b[0m\u001b[1;33m.\u001b[0m\u001b[0mpolicy\u001b[0m\u001b[1;33m\u001b[0m\u001b[1;33m\u001b[0m\u001b[0m\n\u001b[1;32m--> 716\u001b[1;33m             \u001b[1;32mreturn\u001b[0m \u001b[0mutils\u001b[0m\u001b[1;33m.\u001b[0m\u001b[0mforward_step_2d\u001b[0m\u001b[1;33m(\u001b[0m\u001b[0mD\u001b[0m\u001b[1;33m,\u001b[0m \u001b[0mPi_T\u001b[0m\u001b[1;33m,\u001b[0m \u001b[0mpol_i\u001b[0m\u001b[1;33m[\u001b[0m\u001b[0mp1\u001b[0m\u001b[1;33m]\u001b[0m\u001b[1;33m,\u001b[0m \u001b[0mpol_i\u001b[0m\u001b[1;33m[\u001b[0m\u001b[0mp2\u001b[0m\u001b[1;33m]\u001b[0m\u001b[1;33m,\u001b[0m \u001b[0mpol_pi\u001b[0m\u001b[1;33m[\u001b[0m\u001b[0mp1\u001b[0m\u001b[1;33m]\u001b[0m\u001b[1;33m,\u001b[0m \u001b[0mpol_pi\u001b[0m\u001b[1;33m[\u001b[0m\u001b[0mp2\u001b[0m\u001b[1;33m]\u001b[0m\u001b[1;33m)\u001b[0m\u001b[1;33m\u001b[0m\u001b[1;33m\u001b[0m\u001b[0m\n\u001b[0m\u001b[0;32m    717\u001b[0m         \u001b[1;32melse\u001b[0m\u001b[1;33m:\u001b[0m\u001b[1;33m\u001b[0m\u001b[1;33m\u001b[0m\u001b[0m\n",
      "\u001b[1;32m~\\Dropbox\\Phd\\Projects\\Debortoli Gali Durable\\Durable_GE\\sequence-jacobian-master\\utils.py\u001b[0m in \u001b[0;36mforward_step_2d\u001b[1;34m(D, Pi_T, x_i, y_i, x_pi, y_pi)\u001b[0m\n\u001b[0;32m    249\u001b[0m     \u001b[0mnZ\u001b[0m\u001b[1;33m,\u001b[0m \u001b[0mnX\u001b[0m\u001b[1;33m,\u001b[0m \u001b[0mnY\u001b[0m \u001b[1;33m=\u001b[0m \u001b[0mDmid\u001b[0m\u001b[1;33m.\u001b[0m\u001b[0mshape\u001b[0m\u001b[1;33m\u001b[0m\u001b[1;33m\u001b[0m\u001b[0m\n\u001b[1;32m--> 250\u001b[1;33m     \u001b[1;32mreturn\u001b[0m \u001b[1;33m(\u001b[0m\u001b[0mPi_T\u001b[0m \u001b[1;33m@\u001b[0m \u001b[0mDmid\u001b[0m\u001b[1;33m.\u001b[0m\u001b[0mreshape\u001b[0m\u001b[1;33m(\u001b[0m\u001b[0mnZ\u001b[0m\u001b[1;33m,\u001b[0m \u001b[1;33m-\u001b[0m\u001b[1;36m1\u001b[0m\u001b[1;33m)\u001b[0m\u001b[1;33m)\u001b[0m\u001b[1;33m.\u001b[0m\u001b[0mreshape\u001b[0m\u001b[1;33m(\u001b[0m\u001b[0mnZ\u001b[0m\u001b[1;33m,\u001b[0m \u001b[0mnX\u001b[0m\u001b[1;33m,\u001b[0m \u001b[0mnY\u001b[0m\u001b[1;33m)\u001b[0m\u001b[1;33m\u001b[0m\u001b[1;33m\u001b[0m\u001b[0m\n\u001b[0m\u001b[0;32m    251\u001b[0m \u001b[1;33m\u001b[0m\u001b[0m\n",
      "\u001b[1;31mKeyboardInterrupt\u001b[0m: ",
      "\nDuring handling of the above exception, another exception occurred:\n",
      "\u001b[1;31mAttributeError\u001b[0m                            Traceback (most recent call last)",
      "\u001b[1;32m~\\AppData\\Local\\Continuum\\anaconda3\\lib\\site-packages\\IPython\\core\\interactiveshell.py\u001b[0m in \u001b[0;36mshowtraceback\u001b[1;34m(self, exc_tuple, filename, tb_offset, exception_only, running_compiled_code)\u001b[0m\n\u001b[0;32m   2060\u001b[0m                         \u001b[1;31m# in the engines. This should return a list of strings.\u001b[0m\u001b[1;33m\u001b[0m\u001b[1;33m\u001b[0m\u001b[1;33m\u001b[0m\u001b[0m\n\u001b[1;32m-> 2061\u001b[1;33m                         \u001b[0mstb\u001b[0m \u001b[1;33m=\u001b[0m \u001b[0mvalue\u001b[0m\u001b[1;33m.\u001b[0m\u001b[0m_render_traceback_\u001b[0m\u001b[1;33m(\u001b[0m\u001b[1;33m)\u001b[0m\u001b[1;33m\u001b[0m\u001b[1;33m\u001b[0m\u001b[0m\n\u001b[0m\u001b[0;32m   2062\u001b[0m                     \u001b[1;32mexcept\u001b[0m \u001b[0mException\u001b[0m\u001b[1;33m:\u001b[0m\u001b[1;33m\u001b[0m\u001b[1;33m\u001b[0m\u001b[0m\n",
      "\u001b[1;31mAttributeError\u001b[0m: 'KeyboardInterrupt' object has no attribute '_render_traceback_'",
      "\nDuring handling of the above exception, another exception occurred:\n",
      "\u001b[1;31mTypeError\u001b[0m                                 Traceback (most recent call last)",
      "    \u001b[1;31m[... skipping hidden 1 frame]\u001b[0m\n",
      "\u001b[1;32m~\\AppData\\Local\\Continuum\\anaconda3\\lib\\site-packages\\IPython\\core\\interactiveshell.py\u001b[0m in \u001b[0;36mshowtraceback\u001b[1;34m(self, exc_tuple, filename, tb_offset, exception_only, running_compiled_code)\u001b[0m\n\u001b[0;32m   2061\u001b[0m                         \u001b[0mstb\u001b[0m \u001b[1;33m=\u001b[0m \u001b[0mvalue\u001b[0m\u001b[1;33m.\u001b[0m\u001b[0m_render_traceback_\u001b[0m\u001b[1;33m(\u001b[0m\u001b[1;33m)\u001b[0m\u001b[1;33m\u001b[0m\u001b[1;33m\u001b[0m\u001b[0m\n\u001b[0;32m   2062\u001b[0m                     \u001b[1;32mexcept\u001b[0m \u001b[0mException\u001b[0m\u001b[1;33m:\u001b[0m\u001b[1;33m\u001b[0m\u001b[1;33m\u001b[0m\u001b[0m\n\u001b[1;32m-> 2063\u001b[1;33m                         stb = self.InteractiveTB.structured_traceback(etype,\n\u001b[0m\u001b[0;32m   2064\u001b[0m                                             value, tb, tb_offset=tb_offset)\n\u001b[0;32m   2065\u001b[0m \u001b[1;33m\u001b[0m\u001b[0m\n",
      "\u001b[1;32m~\\AppData\\Local\\Continuum\\anaconda3\\lib\\site-packages\\IPython\\core\\ultratb.py\u001b[0m in \u001b[0;36mstructured_traceback\u001b[1;34m(self, etype, value, tb, tb_offset, number_of_lines_of_context)\u001b[0m\n\u001b[0;32m   1365\u001b[0m         \u001b[1;32melse\u001b[0m\u001b[1;33m:\u001b[0m\u001b[1;33m\u001b[0m\u001b[1;33m\u001b[0m\u001b[0m\n\u001b[0;32m   1366\u001b[0m             \u001b[0mself\u001b[0m\u001b[1;33m.\u001b[0m\u001b[0mtb\u001b[0m \u001b[1;33m=\u001b[0m \u001b[0mtb\u001b[0m\u001b[1;33m\u001b[0m\u001b[1;33m\u001b[0m\u001b[0m\n\u001b[1;32m-> 1367\u001b[1;33m         return FormattedTB.structured_traceback(\n\u001b[0m\u001b[0;32m   1368\u001b[0m             self, etype, value, tb, tb_offset, number_of_lines_of_context)\n\u001b[0;32m   1369\u001b[0m \u001b[1;33m\u001b[0m\u001b[0m\n",
      "\u001b[1;32m~\\AppData\\Local\\Continuum\\anaconda3\\lib\\site-packages\\IPython\\core\\ultratb.py\u001b[0m in \u001b[0;36mstructured_traceback\u001b[1;34m(self, etype, value, tb, tb_offset, number_of_lines_of_context)\u001b[0m\n\u001b[0;32m   1265\u001b[0m         \u001b[1;32mif\u001b[0m \u001b[0mmode\u001b[0m \u001b[1;32min\u001b[0m \u001b[0mself\u001b[0m\u001b[1;33m.\u001b[0m\u001b[0mverbose_modes\u001b[0m\u001b[1;33m:\u001b[0m\u001b[1;33m\u001b[0m\u001b[1;33m\u001b[0m\u001b[0m\n\u001b[0;32m   1266\u001b[0m             \u001b[1;31m# Verbose modes need a full traceback\u001b[0m\u001b[1;33m\u001b[0m\u001b[1;33m\u001b[0m\u001b[1;33m\u001b[0m\u001b[0m\n\u001b[1;32m-> 1267\u001b[1;33m             return VerboseTB.structured_traceback(\n\u001b[0m\u001b[0;32m   1268\u001b[0m                 \u001b[0mself\u001b[0m\u001b[1;33m,\u001b[0m \u001b[0metype\u001b[0m\u001b[1;33m,\u001b[0m \u001b[0mvalue\u001b[0m\u001b[1;33m,\u001b[0m \u001b[0mtb\u001b[0m\u001b[1;33m,\u001b[0m \u001b[0mtb_offset\u001b[0m\u001b[1;33m,\u001b[0m \u001b[0mnumber_of_lines_of_context\u001b[0m\u001b[1;33m\u001b[0m\u001b[1;33m\u001b[0m\u001b[0m\n\u001b[0;32m   1269\u001b[0m             )\n",
      "\u001b[1;32m~\\AppData\\Local\\Continuum\\anaconda3\\lib\\site-packages\\IPython\\core\\ultratb.py\u001b[0m in \u001b[0;36mstructured_traceback\u001b[1;34m(self, etype, evalue, etb, tb_offset, number_of_lines_of_context)\u001b[0m\n\u001b[0;32m   1122\u001b[0m         \u001b[1;34m\"\"\"Return a nice text document describing the traceback.\"\"\"\u001b[0m\u001b[1;33m\u001b[0m\u001b[1;33m\u001b[0m\u001b[0m\n\u001b[0;32m   1123\u001b[0m \u001b[1;33m\u001b[0m\u001b[0m\n\u001b[1;32m-> 1124\u001b[1;33m         formatted_exception = self.format_exception_as_a_whole(etype, evalue, etb, number_of_lines_of_context,\n\u001b[0m\u001b[0;32m   1125\u001b[0m                                                                tb_offset)\n\u001b[0;32m   1126\u001b[0m \u001b[1;33m\u001b[0m\u001b[0m\n",
      "\u001b[1;32m~\\AppData\\Local\\Continuum\\anaconda3\\lib\\site-packages\\IPython\\core\\ultratb.py\u001b[0m in \u001b[0;36mformat_exception_as_a_whole\u001b[1;34m(self, etype, evalue, etb, number_of_lines_of_context, tb_offset)\u001b[0m\n\u001b[0;32m   1080\u001b[0m \u001b[1;33m\u001b[0m\u001b[0m\n\u001b[0;32m   1081\u001b[0m \u001b[1;33m\u001b[0m\u001b[0m\n\u001b[1;32m-> 1082\u001b[1;33m         \u001b[0mlast_unique\u001b[0m\u001b[1;33m,\u001b[0m \u001b[0mrecursion_repeat\u001b[0m \u001b[1;33m=\u001b[0m \u001b[0mfind_recursion\u001b[0m\u001b[1;33m(\u001b[0m\u001b[0morig_etype\u001b[0m\u001b[1;33m,\u001b[0m \u001b[0mevalue\u001b[0m\u001b[1;33m,\u001b[0m \u001b[0mrecords\u001b[0m\u001b[1;33m)\u001b[0m\u001b[1;33m\u001b[0m\u001b[1;33m\u001b[0m\u001b[0m\n\u001b[0m\u001b[0;32m   1083\u001b[0m \u001b[1;33m\u001b[0m\u001b[0m\n\u001b[0;32m   1084\u001b[0m         \u001b[0mframes\u001b[0m \u001b[1;33m=\u001b[0m \u001b[0mself\u001b[0m\u001b[1;33m.\u001b[0m\u001b[0mformat_records\u001b[0m\u001b[1;33m(\u001b[0m\u001b[0mrecords\u001b[0m\u001b[1;33m,\u001b[0m \u001b[0mlast_unique\u001b[0m\u001b[1;33m,\u001b[0m \u001b[0mrecursion_repeat\u001b[0m\u001b[1;33m)\u001b[0m\u001b[1;33m\u001b[0m\u001b[1;33m\u001b[0m\u001b[0m\n",
      "\u001b[1;32m~\\AppData\\Local\\Continuum\\anaconda3\\lib\\site-packages\\IPython\\core\\ultratb.py\u001b[0m in \u001b[0;36mfind_recursion\u001b[1;34m(etype, value, records)\u001b[0m\n\u001b[0;32m    380\u001b[0m     \u001b[1;31m# first frame (from in to out) that looks different.\u001b[0m\u001b[1;33m\u001b[0m\u001b[1;33m\u001b[0m\u001b[1;33m\u001b[0m\u001b[0m\n\u001b[0;32m    381\u001b[0m     \u001b[1;32mif\u001b[0m \u001b[1;32mnot\u001b[0m \u001b[0mis_recursion_error\u001b[0m\u001b[1;33m(\u001b[0m\u001b[0metype\u001b[0m\u001b[1;33m,\u001b[0m \u001b[0mvalue\u001b[0m\u001b[1;33m,\u001b[0m \u001b[0mrecords\u001b[0m\u001b[1;33m)\u001b[0m\u001b[1;33m:\u001b[0m\u001b[1;33m\u001b[0m\u001b[1;33m\u001b[0m\u001b[0m\n\u001b[1;32m--> 382\u001b[1;33m         \u001b[1;32mreturn\u001b[0m \u001b[0mlen\u001b[0m\u001b[1;33m(\u001b[0m\u001b[0mrecords\u001b[0m\u001b[1;33m)\u001b[0m\u001b[1;33m,\u001b[0m \u001b[1;36m0\u001b[0m\u001b[1;33m\u001b[0m\u001b[1;33m\u001b[0m\u001b[0m\n\u001b[0m\u001b[0;32m    383\u001b[0m \u001b[1;33m\u001b[0m\u001b[0m\n\u001b[0;32m    384\u001b[0m     \u001b[1;31m# Select filename, lineno, func_name to track frames with\u001b[0m\u001b[1;33m\u001b[0m\u001b[1;33m\u001b[0m\u001b[1;33m\u001b[0m\u001b[0m\n",
      "\u001b[1;31mTypeError\u001b[0m: object of type 'NoneType' has no len()"
     ]
    }
   ],
   "source": [
    "ss = hank_ss()\n",
    "ss['beta']"
   ]
  },
  {
   "cell_type": "markdown",
   "metadata": {},
   "source": [
    "# 2. Steady-state distributions plots and tables"
   ]
  },
  {
   "cell_type": "code",
   "execution_count": null,
   "metadata": {},
   "outputs": [],
   "source": [
    "# a. marginal distributions\n",
    "bdmargdist = np.sum(ss['D'],axis=0) # sum out e\n",
    "dmargdist = np.sum(ss['D'],axis=1) # sum out b\n",
    "dmargcum = np.cumsum(dmargdist)\n",
    "bmargdist = np.sum(ss['D'],axis=2) # sum out d\n",
    "bmargcum = np.cumsum(bmargdist)\n",
    "e_ergodic = ss['e_ergodic']\n",
    "\n",
    "# b. cumulative distributions\n",
    "d_margdist = np.sum(bdmargdist,axis=0) # sum out b\n",
    "dmargcum = np.cumsum(d_margdist)\n",
    "b_margdist = np.sum(bdmargdist,axis=1) # sum out d\n",
    "bmargcum = np.cumsum(b_margdist)\n",
    "\n",
    "bmargcumfrac = np.cumsum(b_margdist*ss['b_grid']) \n",
    "bmargcumfrac /= bmargcumfrac[-1]\n",
    "\n",
    "dmargcumfrac = np.cumsum(d_margdist*ss['dg_grid']) \n",
    "dmargcumfrac /= dmargcumfrac[-1]\n",
    "\n",
    "\n",
    "# b. plots \n",
    "fig1 = plt.figure()\n",
    "fig1.set_size_inches(10.5, 8.5)\n",
    "ax1 = fig1.add_subplot(221)\n",
    "ax1.plot(ss['b_grid'][:],bmargdist[0,:])\n",
    "ax2 = fig1.add_subplot(222)\n",
    "ax2.plot(ss['b_grid'][:],bmargdist[4,:])\n",
    "ax3 = fig1.add_subplot(223)\n",
    "ax3.plot(ss['b_grid'][:],bmargdist[-1,:])\n",
    "ax4 = fig1.add_subplot(224)\n",
    "ax4.plot(ss['e_grid'],ss['e_ergodic'])\n",
    "ax1.title.set_text('Ergodic $b$ distribution, low $e$ state')\n",
    "ax1.set_xlabel('bond holdings')\n",
    "ax1.set_ylabel('distribution weight')\n",
    "ax2.title.set_text('Ergodic $b$ distribution, median $e$ state')\n",
    "ax2.set_xlabel('bond holdings')\n",
    "ax2.set_ylabel('distribution weight')\n",
    "ax3.title.set_text('Ergodic $b$ distribution, high $e$ state')\n",
    "ax3.set_xlabel('bond holdings')\n",
    "ax3.set_ylabel('distribution weight')\n",
    "ax4.title.set_text('Ergodic productivity distribution')\n",
    "ax4.set_xlabel('productivity level')\n",
    "ax4.set_ylabel('distribution weight')\n",
    "plt.show()\n",
    "fig1.tight_layout(pad=7.0)\n",
    "fig1.savefig(\"b_dists.pdf\", bbox_inches='tight')\n",
    "\n",
    "fig2 = plt.figure()\n",
    "fig2.set_size_inches(10.5, 8.5)\n",
    "ax1 = fig2.add_subplot(221)\n",
    "ax1.plot(ss['dg_grid'][:100],dmargdist[0,:100])\n",
    "ax2 = fig2.add_subplot(222)\n",
    "ax2.plot(ss['dg_grid'][:100],dmargdist[4,:100])\n",
    "ax3 = fig2.add_subplot(223)\n",
    "ax3.plot(ss['dg_grid'][:100],dmargdist[-1,:100])\n",
    "ax4 = fig2.add_subplot(224)\n",
    "ax4.plot(ss['e_grid'],ss['e_ergodic'])\n",
    "ax1.title.set_text('Ergodic $d$ distribution, low $e$ state')\n",
    "ax1.set_xlabel('durable stock')\n",
    "ax1.set_ylabel('distribution weight')\n",
    "ax2.title.set_text('Ergodic $d$ distribution, median $e$ state')\n",
    "ax2.set_xlabel('durable stock')\n",
    "ax2.set_ylabel('distribution weight')\n",
    "ax3.set_xlabel('durable stock')\n",
    "ax3.set_ylabel('distribution weight')\n",
    "ax3.title.set_text('Ergodic $d$ distribution, high $e$ state')\n",
    "ax4.set_xlabel('durable stock')\n",
    "ax4.set_ylabel('distribution weight')\n",
    "ax4.title.set_text('Ergodic productivity distribution')\n",
    "ax4.set_xlabel('productivity level')\n",
    "ax4.set_ylabel('distribution weight')\n",
    "\n",
    "plt.show()\n",
    "fig2.tight_layout(pad=7.0)\n",
    "fig2.savefig(\"d_dists.pdf\", bbox_inches='tight')\n",
    "\n",
    "fig3 = plt.figure()\n",
    "fig3.set_size_inches(10.5, 3.5)\n",
    "ax1 = fig3.add_subplot(121)\n",
    "ax1.plot(ss['dg_grid'],dmargcum)\n",
    "ax2 = fig3.add_subplot(122)\n",
    "ax2.plot(ss['b_grid'],bmargcum)\n",
    "ax1.title.set_text('Cumulative $d$ distribution')\n",
    "ax1.set_xlabel('durable stock')\n",
    "ax2.title.set_text('Cumulative $b$ distribution')\n",
    "ax2.set_xlabel('bonds')\n",
    "\n",
    "plt.show()\n",
    "fig3.tight_layout(pad=4.0)\n",
    "fig3.savefig(\"CDFs.pdf\", bbox_inches='tight')"
   ]
  },
  {
   "cell_type": "code",
   "execution_count": null,
   "metadata": {},
   "outputs": [],
   "source": [
    "simT = 3000\n",
    "simN = 2000\n",
    "b_policy = ss['b']\n",
    "d_policy = ss['dg']\n",
    "c_policy = ss['c']\n",
    "e_grid = ss['e_grid']\n",
    "d_grid = ss['dg_grid']\n",
    "b_grid = ss['b_grid']\n",
    "e_ergodic = ss['e_ergodic']\n",
    "Pi_e = ss['Pi_e']\n",
    "\n",
    "sim_b,sim_d,sim_c = Monte_Carlo.steady_state_MC(simT,simN,b_policy,d_policy,c_policy,e_grid,b_grid,d_grid,e_ergodic,Pi_e)\n",
    "\n",
    "sim_d_c = sim_d[1000:,:]/sim_c[1000:,:]\n",
    "skewness_d_c = 3*(np.mean(sim_d_c) - np.median(sim_d_c))/np.std(sim_d_c) #0.4627878092589748 #0.4930580812805126 # 0.5322452262264995\n",
    "print(f\"Skewness D/C: {skewness_d_c:.3f}\")\n",
    "\n",
    "x = sim_d_c\n",
    "hist, bins = np.histogram(x, bins=100)\n",
    "width = 0.7 * (bins[1] - bins[0])\n",
    "center = (bins[:-1] + bins[1:]) / 2\n",
    "plt.bar(center, hist, align='center', width=width)\n",
    "plt.xlabel('D/C')\n",
    "plt.ylabel('Count')\n",
    "plt.show()"
   ]
  },
  {
   "cell_type": "code",
   "execution_count": null,
   "metadata": {},
   "outputs": [],
   "source": [
    "# a. percentiles\n",
    "moms = {}\n",
    "pvec = [0.001,0.01,0.05,0.10,0.25,0.50,0.75,0.90,0.95,0.99,0.999]\n",
    "for p in pvec:\n",
    "\n",
    "    # durable\n",
    "    if p <= dmargcum[0]:\n",
    "        moms[('d',p)] = ss['dg_grid'][0]\n",
    "    else:\n",
    "        try:\n",
    "            moms[('d',p)] = np.interp(p,dmargcum,ss['dg_grid'])\n",
    "        except:\n",
    "            moms[('d',p)] = np.nan\n",
    "\n",
    "    # bonds\n",
    "    if p <= bmargcum[0]:\n",
    "        moms[('b',p)] = ss['b_grid'][0]\n",
    "    else:\n",
    "        try:\n",
    "            moms[('b',p)] = np.interp(p,bmargcum,ss['b_grid'])\n",
    "        except:\n",
    "            moms[('b',p)] = np.nan\n",
    "            \n",
    "# b. table\n",
    "print('d percentiles')\n",
    "for p in reversed(pvec):\n",
    "    print(\"%.3f\" % p,\"%.2f\" % moms['d',p])\n",
    "print('')\n",
    "print('b percentiles')\n",
    "for p in reversed(pvec):\n",
    "    print(\"%.3f\" % p,\"%.2f\" % moms['b',p])"
   ]
  },
  {
   "cell_type": "markdown",
   "metadata": {},
   "source": [
    "# 3. Linearized dynamics"
   ]
  },
  {
   "cell_type": "markdown",
   "metadata": {},
   "source": [
    "## 3.1 Pre-requisite price relations from retailer FOC's"
   ]
  },
  {
   "cell_type": "markdown",
   "metadata": {},
   "source": [
    "From the combined retailer F.O.C. we obtain $C_{d,t}(C_{d,t},Q_t)$\n",
    "$$\\left(\\frac{\\chi C_{d,t}}{(1-\\chi)C_{t}}\\right)^{\\frac{1}{\\theta}}=\\frac{1}{Q_{t}}$$\n",
    "$$\\Rightarrow C_{d,t}=C_{t}Q_{t}^{-\\theta}\\left(\\frac{1-\\chi}{\\chi}\\right)$$\n",
    "\n",
    "Thus, we obtain $P_{n,t}$ from retailer FOC wrt. $C_t$\n",
    "$$\\begin{array}{c}\n",
    "\\Rightarrow P_{t}\\left[(\\chi)^{\\frac{1}{\\theta}}{C_{t}^{-\\frac{1}{\\theta}}}\\left[(\\chi)^{\\frac{1}{\\theta}}{\\left(C_{t}\\right)^{\\frac{\\theta-1}{\\theta}}}+(1-\\chi)^{\\frac{1}{\\theta}}\\left({C_{t}}Q_{t}^{-\\theta}\\left(\\frac{1-\\chi}{\\chi}\\right)\\right)^{\\frac{\\theta-1}{\\theta}}\\right]^{\\frac{1}{\\theta-1}}\\right]=P_{n,t}\\\\\n",
    "\\Rightarrow P_{t}\\left[(\\chi)^{\\frac{1}{\\theta}}\\left[(\\chi)^{\\frac{1}{\\theta}}+(1-\\chi)^{\\frac{1}{\\theta}}\\left(Q_{t}^{-\\theta}\\left(\\frac{1-\\chi}{\\chi}\\right)\\right)^{\\frac{\\theta-1}{\\theta}}\\right]^{\\frac{1}{\\theta-1}}\\right]=P_{n,t}\\\\\n",
    "\\Rightarrow P_{t}\\left[(\\chi)^{\\frac{1}{\\theta}\\frac{\\theta-1}{1}}\\left[(\\chi)^{\\frac{1}{\\theta}}+(1-\\chi)^{\\frac{1}{\\theta}}\\left(Q_{t}^{-\\theta}\\left(\\frac{1-\\chi}{\\chi}\\right)\\right)^{\\frac{\\theta-1}{\\theta}}\\right]^{\\frac{1}{\\theta-1}}\\right]=P_{n,t}\\\\\n",
    "\\Rightarrow P_{t}\\left[\\left[(\\chi)^{\\frac{1}{\\theta}\\frac{\\theta-1}{1}}(\\chi)^{\\frac{1}{\\theta}}+(\\chi)^{\\frac{1}{\\theta}\\frac{\\theta-1}{1}}(1-\\chi)^{\\frac{1}{\\theta}}\\left(Q_{t}^{-\\theta}\\left(\\frac{1-\\chi}{\\chi}\\right)\\right)^{\\frac{\\theta-1}{\\theta}}\\right]^{\\frac{1}{\\theta-1}}\\right]=P_{n,t}\\\\\n",
    "\\Rightarrow P_{t}\\left[\\left[(\\chi)^{\\frac{1}{\\theta}+\\frac{1}{\\theta}\\frac{\\theta-1}{1}}+(\\chi)^{\\frac{1}{\\theta}\\frac{\\theta-1}{1}}(1-\\chi)^{\\frac{1}{\\theta}}Q_{t}^{1-\\theta}\\left(1-\\chi\\right)^{\\frac{\\theta-1}{\\theta}}\\chi^{\\frac{1-\\theta}{\\theta}}\\right]^{\\frac{1}{\\theta-1}}\\right]=P_{n,t}\\\\\n",
    "\\Rightarrow P_{t}\\left[\\left[(\\chi)^{\\frac{1}{\\theta}+\\frac{1}{\\theta}\\frac{\\theta-1}{1}}+(\\chi)^{\\frac{1}{\\theta}\\frac{\\theta-1}{1}+\\frac{1-\\theta}{\\theta}}(1-\\chi)^{\\frac{1}{\\theta}+\\frac{\\theta-1}{\\theta}}Q_{t}^{1-\\theta}\\right]^{\\frac{1}{\\theta-1}}\\right]=P_{n,t}\\\\\n",
    "\\Rightarrow P_{t}\\left[\\left[(\\chi)^{1}+{(\\chi)^{0}}(1-\\chi)^{1}Q_{t}^{1-\\theta}\\right]^{\\frac{1}{\\theta-1}}\\right]=P_{n,t}\\\\\n",
    "\\Rightarrow\\frac{P_{t}}{P_{n,t}}=\\left[\\chi+(1-\\chi)Q_{t}^{1-\\theta}\\right]^{\\frac{1}{1-\\theta}}\n",
    "\\end{array}$$\n",
    "\n",
    "so $P_{n,t}=\\left[\\chi+(1-\\chi)Q_{t}^{1-\\theta}\\right]^{\\frac{1}{\\theta-1}}P_{t}$\n",
    "\n",
    "which pins downs $P_{d,t}$\n",
    "$$P_{d,t}=P_{n,t}\\cdot Q_t$$\n"
   ]
  },
  {
   "cell_type": "markdown",
   "metadata": {},
   "source": [
    "## 3.1 Equilibrium equations neccessary to compute impulse responses"
   ]
  },
  {
   "cell_type": "markdown",
   "metadata": {},
   "source": [
    "\\begin{equation} P_{n,t}=\\left[\\chi+(1-\\chi)Q_{t}^{1-\\theta}\\right]^{\\frac{1}{\\theta-1}}P_{t} \\end{equation}\n",
    "\n",
    "\\begin{equation} P_{d,t}=P_{n,t}Q_t \\end{equation}\n",
    "\n",
    "\\begin{equation} \\Pi_{t}=\\frac{P_{t}}{P_{t-1}} \\end{equation}\n",
    "\n",
    "\\begin{equation} \\mathcal{M}_{t}^{p}=\\frac{1}{\\frac{\\xi}{\\epsilon}\\left(\\Pi_{t}\\left(\\Pi_{t}-1\\right)-\\frac{1}{1+r_{t+1}}\\left(\\frac{Y_{t+1}}{Y_{t}}\\right)\\Pi_{t+1}\\left(\\Pi_{t+1}-1\\right)\\right)+\\frac{1}{\\mathcal{M}^{p}}} \\end{equation}\n",
    "\n",
    "\\begin{equation} i_{t}=r_{t}^{*}+\\phi_{\\pi}\\pi_{t}+\\phi_{y} \\hat{y}_t \\end{equation}\n",
    "\n",
    "\\begin{equation} r_{t}=\\frac{1+i_{t}}{1+\\pi_{t}}-1 \\end{equation}\n",
    "\n",
    "\\begin{equation} N_{t}=Y_{t}/A_{t} \\end{equation}\n",
    "\n",
    "\\begin{equation} W_{t}=\\frac{A_{t} P_{t}}{\\mathcal{M}_{t}^{p} } \\end{equation}\n",
    "\n",
    "\\begin{equation} Div_{t}=Y_{t}\\left(1-(\\xi/2)\\left(\\Pi_{t}-1\\right)^{2}\\right)-\\frac{W_{t}}{P_{t}}N_{t} \\end{equation}\n",
    "\n",
    "\\begin{equation} B_{t}=0 \\end{equation}\n",
    "\n",
    "\\begin{equation} P_{n,t}C_{t}+P_{n,t}Q_tC_{d,t}-P_{t}Y_{t}=0 \\end{equation}\n",
    "\n",
    "\\begin{equation} \\frac{W_{t}}{P_{t}}=\\psi_N N_{t}C_{n,t} \\end{equation}"
   ]
  },
  {
   "cell_type": "markdown",
   "metadata": {},
   "source": [
    "The endogenous variables are $U=(Y_{t},P_{t},Q_{t})$, the exogenous\n",
    "variables are $Z=(r_{t}^{*},A_{t})$. With the following targets,\n",
    "the system to be solved is given as\n",
    "\n",
    "\\begin{equation}\n",
    "H\\left(Y_{t},P_{t},Q_{t}\\right)=\\left(\\begin{array}{c}\n",
    "\\text{Bonds market clearing}\\\\\n",
    "\\text{Retailer zero-profit condition}\\\\\n",
    "\\text{Wage schedule}\n",
    "\\end{array}\\right)=\\left(\\begin{array}{c}\n",
    "0\\\\\n",
    "0\\\\\n",
    "0\n",
    "\\end{array}\\right)\n",
    "\\end{equation}\n",
    "\n",
    "Denoting household solution variables as caligraphic variables for\n",
    "$\\mathcal{B},\\mathcal{D},\\mathcal{C}$, the system is explicitly\n",
    "\n",
    "\\begin{equation}\n",
    "H\\left(Y_{t},P_{t},Q_{t}\\right)=\\left(\\begin{array}{c}\n",
    "\\mathcal{B}_{t}\\\\\n",
    "P_{n,t}\\mathcal{C}_{n,t} + P_{n,t}Q_t\\mathcal{C}_{d,t} - P_t Y_t\\\\\n",
    "\\frac{W_{t}}{P_{t}}-\\psi_{N}N_{t}\\mathcal{C}_{n,t}\n",
    "\\end{array}\\right)=\\left(\\begin{array}{c}\n",
    "0\\\\\n",
    "0\\\\\n",
    "0\n",
    "\\end{array}\\right)\n",
    "\\end{equation}\n"
   ]
  },
  {
   "cell_type": "markdown",
   "metadata": {},
   "source": [
    "## 3.2 Define simple blocks (eq. by eq.)"
   ]
  },
  {
   "cell_type": "code",
   "execution_count": null,
   "metadata": {},
   "outputs": [],
   "source": [
    "@simple\n",
    "def prices(P,Q,chi,theta): # non-durable price from retailer FOC, durable price through Q definition\n",
    "    P_n = P*(chi + (1-chi)*Q**(1-theta))**(1/(theta-1))\n",
    "    P_d = Q*P_n\n",
    "    return P_n,P_d\n",
    "\n",
    "@simple\n",
    "def inflation(P): # inflation definition\n",
    "    Pi = P/P(-1) \n",
    "    return Pi\n",
    "\n",
    "@simple\n",
    "def markup_p(Pi,Y,xi,vareps,markup_p_ss,r): # P mark-up through Phillips curve\n",
    "    markup_p = 1/((xi/vareps)*( Pi*(Pi-1) - (1/(1+r(+1))) * (Y(+1)/Y)*Pi(+1)*(Pi(+1) - 1) ) - 1/markup_p_ss)\n",
    "    return markup_p\n",
    "\n",
    "@simple\n",
    "def taylor(rstar,Pi,Y,Y_ss,phi_pi,phi_y): # monetary policy\n",
    "    i_minus = rstar + phi_pi*np.log(Pi)# + phi_y*np.log(Y/Y_ss) # Taylor rule\n",
    "    r = (1+i_minus)/(1+np.log(Pi)) - 1 # Fisher equation\n",
    "    return r\n",
    "\n",
    "@simple\n",
    "def labor_supply(Y,A): # labor supply as a function of output and TFP\n",
    "    N = Y/A\n",
    "    return N\n",
    "\n",
    "@simple\n",
    "def wage(A,P,markup_p): # wage relation\n",
    "    W = A*P/markup_p\n",
    "    return W\n",
    "\n",
    "@simple\n",
    "def dividends(Y,W,N,P,Pi,xi): # firm profits\n",
    "    Div = Y*(1-(xi/2)*(Pi-1)**2) - (W*N)/P\n",
    "    return Div\n",
    "\n",
    "@simple\n",
    "def bond_market_clearing(B,Bg): # bond market clearing\n",
    "    bond_mkt = B - Bg\n",
    "    return bond_mkt\n",
    "\n",
    "@simple\n",
    "def zero_profit_retailer(Q,C_D,C,P,P_n,Y,delta): # retailer zero-profit cond.\n",
    "    retailer_res = P_n*C + P_n*Q*C_D - P*Y\n",
    "    return retailer_res\n",
    "\n",
    "@simple\n",
    "def DG_t(DG):\n",
    "    DG_t = DG(-1)\n",
    "    return DG_t\n",
    "\n",
    "@simple\n",
    "def wage_schedule(W,P,N,C,psi_N): # wage schedule target\n",
    "    wage_res = W/P - psi_N*N*C\n",
    "    return wage_res\n",
    "\n",
    "@simple\n",
    "def fiscal(r, Bg,W,P,N):\n",
    "    Tax = r*Bg\n",
    "    return Tax\n"
   ]
  },
  {
   "cell_type": "markdown",
   "metadata": {},
   "source": [
    "### 3.2 Cut to the chase\n",
    "The surest way to obtain the general equilibrium Jacobians is to use the `get_G` convenience function. Notice the `save=True` option. This means that we're saving the HA Jacobians calculated along the way for later use."
   ]
  },
  {
   "cell_type": "code",
   "execution_count": null,
   "metadata": {},
   "outputs": [],
   "source": [
    "# setup\n",
    "T = 300\n",
    "exogenous = ['rstar', 'A']\n",
    "unknowns = ['Y','P','Q']\n",
    "targets = ['bond_mkt','retailer_res','wage_res']\n",
    "\n",
    "# general equilibrium jacobians\n",
    "block_list = [prices,inflation,markup_p,taylor,labor_supply,wage,dividends,bond_market_clearing,zero_profit_retailer,wage_schedule,DG_t,fiscal,household] \n",
    "G = jac.get_G(block_list, exogenous, unknowns, targets, T, ss, save=True)"
   ]
  },
  {
   "cell_type": "markdown",
   "metadata": {},
   "source": [
    "### 3.3 Break down `get_G`\n",
    "\n",
    "Under the hood, the very powerful `jac.get_G` performs the following steps:\n",
    " - orders the blocks so that we move forward along the model's DAG\n",
    " - computes the partial Jacobians $\\mathcal{J}^{o,i}$ from all blocks (if their Jacobian is not supplied already), only with respect to the inputs that actually change: unknowns, exogenous shocks, outputs of earlier blocks\n",
    " - forward accumulates partial Jacobians $\\mathcal{J}^{o,i}$ to form total Jacobians $\\mathbf{J}^{o,i}$\n",
    " - packs $\\mathbf{J}^{o,i}$ to form $\\mathbf{H_U}$ and $\\mathbf{H_Z}$\n",
    " - solves for the GE Jacobians for unknowns $\\mathbf{G_U} = \\mathbf{H_U}^{-1}\\mathbf{H_Z}$\n",
    " - forward accumulates GE Jacobians to obtain $\\mathbf{G}$ for other endogenous variables \n",
    " \n",
    "Let's take a closer look at each."
   ]
  },
  {
   "cell_type": "markdown",
   "metadata": {},
   "source": [
    "#### Step 1: Topological sort and partial Jacobians\n",
    "By looking at the inputs and outputs of each block, we can order them so that we only move forward on the DAG (this is called a **topological sort**). Knowing the DAG is a prerequisite for all that follows, and also allows us to avoid wasteful Jacobian calculations: we only need Jacobians with respect to unknowns, exogenous, and outputs of earlier blocks."
   ]
  },
  {
   "cell_type": "code",
   "execution_count": null,
   "metadata": {},
   "outputs": [],
   "source": [
    "curlyJs, required = jac.curlyJ_sorted(block_list, unknowns+exogenous, ss, T)"
   ]
  },
  {
   "cell_type": "markdown",
   "metadata": {},
   "source": [
    "The first output `curlyJs` is a list of nested dictionaries. Each entry in the list contains all the necessary Jacobians for the corresponding block. Blocks are ordered according to the topological sort.\n"
   ]
  },
  {
   "cell_type": "code",
   "execution_count": null,
   "metadata": {},
   "outputs": [],
   "source": [
    "print(curlyJs[0])"
   ]
  },
  {
   "cell_type": "markdown",
   "metadata": {},
   "source": [
    "Since this is a simple block, the Jacobians are represented as a instances of the `SimpleSparse` class. Note that `jac.curlyJ_sorted` correctly determined that it is not necessary to differentiate with respect to the Taylor rule parameter $\\phi$ (if we wanted to consider shocks to this parameter, we'd just have to include it among the exogenous inputs.)\n",
    "\n",
    "The second output `required` is a set of extra variables (not unknowns and exogenous) that we have to differentiate with respect to, because they are outputs of some blocks and inputs of others. "
   ]
  },
  {
   "cell_type": "code",
   "execution_count": null,
   "metadata": {},
   "outputs": [],
   "source": [
    "print(required)"
   ]
  },
  {
   "cell_type": "markdown",
   "metadata": {},
   "source": [
    "#### Step 2: Compose Jacobians along the DAG\n",
    "\n",
    "First, we apply the chain rule by using `jac.forward_accumulate`. This gives the $T \\times T$ building blocks of the $H_U$ and $H_Z$ that relate targets to unknowns and exogenous. "
   ]
  },
  {
   "cell_type": "code",
   "execution_count": null,
   "metadata": {},
   "outputs": [],
   "source": [
    "J_curlyH_U = jac.forward_accumulate(curlyJs, unknowns, targets, required)\n",
    "J_curlyH_Z = jac.forward_accumulate(curlyJs, exogenous, targets, required)\n",
    "print(J_curlyH_U.keys())\n",
    "print(J_curlyH_U['bond_mkt'].keys())"
   ]
  },
  {
   "cell_type": "markdown",
   "metadata": {},
   "source": [
    "Next, we just have to pack them into two (big) matrices. These capture (to first order) the implicit relationship between unknowns, i.e. that the targets of the DAG evaluate to zero."
   ]
  },
  {
   "cell_type": "code",
   "execution_count": null,
   "metadata": {},
   "outputs": [],
   "source": [
    "H_U = jac.pack_jacobians(J_curlyH_U, unknowns, targets, T)\n",
    "H_Z = jac.pack_jacobians(J_curlyH_Z, exogenous, targets, T)\n",
    "print(H_U.shape)\n",
    "print(H_Z.shape)"
   ]
  },
  {
   "cell_type": "markdown",
   "metadata": {},
   "source": [
    "#### Step 3: General equilibrium Jacobians\n",
    "First we can get the response of unknowns directly by the implicit function theorem."
   ]
  },
  {
   "cell_type": "code",
   "execution_count": null,
   "metadata": {},
   "outputs": [],
   "source": [
    "G_U = jac.unpack_jacobians(-np.linalg.solve(H_U, H_Z), exogenous, unknowns, T)\n",
    "print(G_U.keys())"
   ]
  },
  {
   "cell_type": "markdown",
   "metadata": {},
   "source": [
    "And the rest can be obtained by forward accumulation that accounts for the direct and indirect effects alike."
   ]
  },
  {
   "cell_type": "code",
   "execution_count": null,
   "metadata": {},
   "outputs": [],
   "source": [
    "curlyJs = [G_U] + curlyJs\n",
    "outputs = set().union(*(curlyJ.keys() for curlyJ in curlyJs)) - set(targets)\n",
    "\n",
    "G2 = jac.forward_accumulate(curlyJs, exogenous, outputs, required | set(unknowns))"
   ]
  },
  {
   "cell_type": "markdown",
   "metadata": {},
   "source": [
    "### 3.4 Results\n",
    "First let's check that we have correctly reconstructed the steps of `jac.get_G`."
   ]
  },
  {
   "cell_type": "code",
   "execution_count": null,
   "metadata": {},
   "outputs": [],
   "source": [
    "for o in G:\n",
    "    for i in G[o]:\n",
    "        assert np.allclose(G[o][i], G2[o][i])"
   ]
  },
  {
   "cell_type": "markdown",
   "metadata": {},
   "source": [
    "Now let's consider 20 basis point monetary policy shocks with different persistences and plot the response of inflation."
   ]
  },
  {
   "cell_type": "code",
   "execution_count": null,
   "metadata": {},
   "outputs": [],
   "source": [
    "rhos = np.array([0.3]) # persistence\n",
    "\n",
    "drstar = -0.002 * rhos ** (np.arange(T)[:, np.newaxis])\n",
    "dpi = (G['Y']['rstar'] @ drstar)\n",
    "plt.plot(10000 * dpi[:])\n",
    "plt.title(r'Y response monetary policy shocks')\n",
    "plt.xlabel('quarters')\n",
    "plt.ylabel('bp deviation from ss')\n",
    "plt.show()"
   ]
  },
  {
   "cell_type": "code",
   "execution_count": null,
   "metadata": {},
   "outputs": [],
   "source": [
    "rhos = np.array([0.3]) # persistence\n",
    "\n",
    "drstar = -0.002 * rhos ** (np.arange(T)[:, np.newaxis])\n",
    "dpi = (G['P']['rstar'] @ drstar)\n",
    "plt.plot(10000 * dpi[:])\n",
    "plt.title(r'P response monetary policy shocks')\n",
    "plt.xlabel('quarters')\n",
    "plt.ylabel('bp deviation from ss')\n",
    "plt.show()"
   ]
  },
  {
   "cell_type": "code",
   "execution_count": null,
   "metadata": {},
   "outputs": [],
   "source": [
    "rhos = np.array([0.3]) # persistence\n",
    "\n",
    "drstar = -0.002 * rhos ** (np.arange(T)[:, np.newaxis])\n",
    "dpi = (G['P_n']['rstar'] @ drstar)\n",
    "plt.plot(10000 * dpi[:])\n",
    "plt.title(r'Pn response monetary policy shocks')\n",
    "plt.xlabel('quarters')\n",
    "plt.ylabel('bp deviation from ss')\n",
    "plt.show()"
   ]
  },
  {
   "cell_type": "code",
   "execution_count": null,
   "metadata": {},
   "outputs": [],
   "source": [
    "rhos = np.array([0.3]) # persistence\n",
    "\n",
    "drstar = -0.002 * rhos ** (np.arange(T)[:, np.newaxis])\n",
    "dpi = (G['P_d']['rstar'] @ drstar)\n",
    "plt.plot(10000 * dpi[:])\n",
    "plt.title(r'Pd response monetary policy shocks')\n",
    "plt.xlabel('quarters')\n",
    "plt.ylabel('bp deviation from ss')\n",
    "plt.show()"
   ]
  },
  {
   "cell_type": "code",
   "execution_count": null,
   "metadata": {},
   "outputs": [],
   "source": [
    "rhos = np.array([0.3]) # persistence\n",
    "\n",
    "drstar = -0.002 * rhos ** (np.arange(T)[:, np.newaxis])\n",
    "dpi = (G['Q']['rstar'] @ drstar)\n",
    "plt.plot(10000 * dpi[:])\n",
    "plt.title(r'Q response monetary policy shocks')\n",
    "plt.xlabel('quarters')\n",
    "plt.ylabel('bp deviation from ss')\n",
    "plt.show()"
   ]
  },
  {
   "cell_type": "code",
   "execution_count": null,
   "metadata": {},
   "outputs": [],
   "source": [
    "rhos = np.array([0.3]) # persistence\n",
    "\n",
    "drstar = -0.002 * rhos ** (np.arange(T)[:, np.newaxis])\n",
    "dpi = (G['C']['rstar'] @ drstar)\n",
    "plt.plot(10000 * dpi[:])\n",
    "plt.title(r'C response monetary policy shocks')\n",
    "plt.xlabel('quarters')\n",
    "plt.ylabel('bp deviation from ss')\n",
    "plt.show()"
   ]
  },
  {
   "cell_type": "code",
   "execution_count": null,
   "metadata": {},
   "outputs": [],
   "source": [
    "rhos = np.array([0.3]) # persistence\n",
    "\n",
    "drstar = -0.002 * rhos ** (np.arange(T)[:, np.newaxis])\n",
    "dpi = (G['DG']['rstar'] @ drstar)\n",
    "plt.plot(10000 * dpi[:])\n",
    "plt.title(r'D response monetary policy shocks')\n",
    "plt.xlabel('quarters')\n",
    "plt.ylabel('bp deviation from ss')\n",
    "plt.show()"
   ]
  },
  {
   "cell_type": "code",
   "execution_count": null,
   "metadata": {},
   "outputs": [],
   "source": [
    "rhos = np.array([0.3]) # persistence\n",
    "\n",
    "drstar = -0.002 * rhos ** (np.arange(T)[:, np.newaxis])\n",
    "dpi = (G['N']['rstar'] @ drstar)\n",
    "plt.plot(10000 * dpi[:])\n",
    "plt.title(r'N response monetary policy shocks')\n",
    "plt.xlabel('quarters')\n",
    "plt.ylabel('bp deviation from ss')\n",
    "plt.show()"
   ]
  },
  {
   "cell_type": "code",
   "execution_count": null,
   "metadata": {},
   "outputs": [],
   "source": [
    "rhos = np.array([0.3]) # persistence\n",
    "\n",
    "drstar = -0.002 * rhos ** (np.arange(T)[:, np.newaxis])\n",
    "dpi = (G['W']['rstar'] @ drstar)\n",
    "plt.plot(10000 * dpi[:])\n",
    "plt.title(r'W response monetary policy shocks')\n",
    "plt.xlabel('quarters')\n",
    "plt.ylabel('bp deviation from ss')\n",
    "plt.show()"
   ]
  },
  {
   "cell_type": "code",
   "execution_count": null,
   "metadata": {},
   "outputs": [],
   "source": [
    "rhos = np.array([0.3]) # persistence\n",
    "\n",
    "drstar = -0.002 * rhos ** (np.arange(T)[:, np.newaxis])\n",
    "dpi = (G['markup_p']['rstar'] @ drstar)\n",
    "plt.plot(10000 * dpi[:])\n",
    "plt.title(r'mark-up response monetary policy shocks')\n",
    "plt.xlabel('quarters')\n",
    "plt.ylabel('bp deviation from ss')\n",
    "plt.show()"
   ]
  },
  {
   "cell_type": "code",
   "execution_count": null,
   "metadata": {},
   "outputs": [],
   "source": [
    "rhos = np.array([0.3]) # persistence\n",
    "\n",
    "drstar = -0.002 * rhos ** (np.arange(T)[:, np.newaxis])\n",
    "dpi = (G['r']['rstar'] @ drstar)\n",
    "plt.plot(10000 * dpi[:])\n",
    "plt.title(r'r response monetary policy shocks')\n",
    "plt.xlabel('quarters')\n",
    "plt.ylabel('bp deviation from ss')\n",
    "plt.show()"
   ]
  },
  {
   "cell_type": "code",
   "execution_count": null,
   "metadata": {},
   "outputs": [],
   "source": [
    "rhos = np.array([0.3]) # persistence\n",
    "\n",
    "drstar = -0.002 * rhos ** (np.arange(T)[:, np.newaxis])\n",
    "dpi = (G['Pi']['rstar'] @ drstar)\n",
    "plt.plot(10000 * dpi[:])\n",
    "plt.title(r'Pi response monetary policy shocks')\n",
    "plt.xlabel('quarters')\n",
    "plt.ylabel('bp deviation from ss')\n",
    "plt.show()"
   ]
  },
  {
   "cell_type": "code",
   "execution_count": null,
   "metadata": {},
   "outputs": [],
   "source": [
    "rhos = np.array([0.3]) # persistence\n",
    "\n",
    "drstar = -0.002 * rhos ** (np.arange(T)[:, np.newaxis])\n",
    "dpi = (G['Tax']['rstar'] @ drstar)\n",
    "plt.plot(10000 * dpi[:])\n",
    "plt.title(r'Tax response monetary policy shocks')\n",
    "plt.xlabel('quarters')\n",
    "plt.ylabel('bp deviation from ss')\n",
    "plt.show()"
   ]
  }
 ],
 "metadata": {
  "kernelspec": {
   "display_name": "Python 3",
   "language": "python",
   "name": "python3"
  },
  "language_info": {
   "codemirror_mode": {
    "name": "ipython",
    "version": 3
   },
   "file_extension": ".py",
   "mimetype": "text/x-python",
   "name": "python",
   "nbconvert_exporter": "python",
   "pygments_lexer": "ipython3",
   "version": "3.8.5"
  }
 },
 "nbformat": 4,
 "nbformat_minor": 4
}
