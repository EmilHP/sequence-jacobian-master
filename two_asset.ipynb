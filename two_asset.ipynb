{
 "cells": [
  {
   "cell_type": "markdown",
   "metadata": {},
   "source": [
    "# Solving a two-asset HANK model in sequence space\n",
    "\n",
    "In this notebook we solve the two-asset HANK model from Auclert, Bardóczy, Rognlie, Straub (2019): \"Using the Sequence-Space Jacobian to Solve and Estimate Heterogeneous-Agent Models\". Please see the [Github repository](https://github.com/shade-econ/sequence-jacobian) for more information and code.\n",
    "\n",
    "The only new concept relative to the one-asset HANK notebook is that of a **solved block**. These are extensions of simple blocks that are useful for large macro models and that's why we introduce them here, in the context of our richest model. We will apply all other concepts and tools that are familiar from other notebooks here without further explanation. \n",
    "\n",
    "## Model description\n",
    "\n",
    "The household problem is characterized by the Bellman equation\n",
    "\n",
    "$$\n",
    "\\begin{align} \\tag{1}\n",
    "V_t(e_t, b_{t-1}, a_{t-1}) = \\max_{c_t, b_t, a_t} &\\left\\{\\frac{c_t^{1-\\sigma}}{1-\\sigma} + \\beta E_t V_{t+1}(e_{t+1}, b_t, a_t) \\right\\}\n",
    "\\\\\n",
    "c_t + a_t + b_t &= (1-\\tau_t)w_t n_t e_t + (1 + r_t^a)a_{t-1} + (1 + r_t^b)b_{t-1} - \\Psi(a_t, a_{t-1}) \n",
    "\\\\\n",
    "a_t &\\geq 0, \\quad b_t \\geq \\underline{b},\n",
    "\\end{align}\n",
    "$$\n",
    "\n",
    "where the adjustment cost function is specified as\n",
    "\n",
    "$$\n",
    "\\Psi(a_t, a_{t-1}) =  \\frac{\\chi_1}{\\chi_2}\\left|\\frac{a_t - (1 + r_t^a) a_{t-1}}{(1 + r_{t}^a) a_{t-1} + \\chi_0}\\right|^{\\chi_2} \\left[(1 + r_t^a) a_{t-1} + \\chi_0 \\right],\n",
    "$$\n",
    "\n",
    "with $\\chi_0, \\chi_1 > 0$ and $\\chi_2 > 1.$ For the full description of the model, including the problems of the other agents, please see appendix A.3 of the paper."
   ]
  },
  {
   "cell_type": "markdown",
   "metadata": {},
   "source": [
    "## 0 Import packages\n",
    "\n",
    "The first two are standard python packages, the rest contain code we wrote for this project."
   ]
  },
  {
   "cell_type": "code",
   "execution_count": 1,
   "metadata": {},
   "outputs": [],
   "source": [
    "import numpy as np\n",
    "import matplotlib.pyplot as plt\n",
    "\n",
    "import utils\n",
    "import jacobian as jac\n",
    "from het_block import het\n",
    "from simple_block import simple\n",
    "from solved_block import solved\n",
    "import two_asset\n",
    "import nonlinear\n",
    "import determinacy as det"
   ]
  },
  {
   "cell_type": "markdown",
   "metadata": {},
   "source": [
    "## 1 Calibrate steady state\n",
    "\n",
    "We developed an efficient backward iteration function to solve the Bellman equation in (1). Although we view this as a contribution on its own, discussing the algorithm goes beyond the scope of this notebook. If you are interested in how we solve a two-asset model with convex portfolio-adjustment costs in discrete time, please see appendix B of the paper for a detailed description and `two_asset.py` for the implementation."
   ]
  },
  {
   "cell_type": "code",
   "execution_count": 2,
   "metadata": {},
   "outputs": [],
   "source": [
    "ss = two_asset.hank_ss(noisy=False)"
   ]
  },
  {
   "cell_type": "markdown",
   "metadata": {},
   "source": [
    "## 2 Define simple blocks\n",
    "\n",
    "Compare these to the equations in appendix A.3 of the paper."
   ]
  },
  {
   "cell_type": "code",
   "execution_count": 3,
   "metadata": {},
   "outputs": [],
   "source": [
    "@simple\n",
    "def dividend(Y, w, N, K, pi, mup, kappap, delta):\n",
    "    psip = mup / (mup - 1) / 2 / kappap * np.log(1 + pi) ** 2 * Y\n",
    "    I = K - (1 - delta) * K(-1)\n",
    "    div = Y - w * N - I - psip\n",
    "    return psip, I, div\n",
    "\n",
    "@simple\n",
    "def taylor(rstar, pi, phi):\n",
    "    i = rstar + phi * pi\n",
    "    return i\n",
    "\n",
    "@simple\n",
    "def fiscal(r, w, N, G, Bg):\n",
    "    tax = (r * Bg + G) / w / N\n",
    "    return tax\n",
    "\n",
    "@simple\n",
    "def finance(i, p, pi, r, div, omega, pshare):\n",
    "    rb = r - omega\n",
    "    ra = pshare * (div + p) / p(-1) + (1-pshare) * (1 + r) - 1\n",
    "    fisher = 1 + i(-1) - (1 + r) * (1 + pi)\n",
    "    return rb, ra, fisher\n",
    "\n",
    "@simple\n",
    "def wage(pi, w, N, muw, kappaw):\n",
    "    piw = (1 + pi) * w / w(-1) - 1\n",
    "    psiw = muw / (1 - muw) / 2 / kappaw * np.log(1 + piw) ** 2 * N\n",
    "    return piw, psiw\n",
    "\n",
    "@simple\n",
    "def union(piw, N, tax, w, U, kappaw, muw, vphi, frisch, beta):\n",
    "    wnkpc = kappaw * (vphi * N**(1+1/frisch) - muw*(1-tax)*w*N*U) + beta * np.log(1 + piw(+1)) - np.log(1 + piw)\n",
    "    return wnkpc\n",
    "\n",
    "@simple\n",
    "def mkt_clearing(p, A, B, Bg):\n",
    "    asset_mkt = p + Bg - B - A\n",
    "    return asset_mkt"
   ]
  },
  {
   "cell_type": "markdown",
   "metadata": {},
   "source": [
    "## 3 Define solved blocks\n",
    "\n",
    "Solved blocks are mini SHADE models embedded as blocks inside larger SHADE models. Like simple blocks, solved blocks correspond to aggregate equilibrium conditions: they map sequences of aggregate inputs directly into sequences of aggregate outputs. The difference is that in the case of simple blocks, this mapping has to be analytical, while solved blocks are designed to accommodate implicit relationships that can only be evaluated numerically. \n",
    "\n",
    "Such implicit mappings between variables become more common as macro complexity increases. Solved blocks are a valuable tool to simplify the DAG of large macro models.\n",
    "\n",
    "### 3.1 Price setting \n",
    "The Phillips curve characterizes $(\\pi)$ conditional on $(Y, mc, r):$ \n",
    "\n",
    "$$\n",
    "\\log(1+\\pi_t) = \\kappa_p \\left(mc_t - \\frac{1}{\\mu_p} \\right) + \\frac{1}{1+r_{t+1}} \\frac{Y_{t+1}}{Y_t} \\log(1+\\pi_{t+1})\n",
    "$$\n",
    "\n",
    "Inflation shows up with two different time displacements, and so we could not express it analytically. Instead, we write a function that returns the residual of the equation, and use the decorator `@solved` to make it into a SolvedBlock."
   ]
  },
  {
   "cell_type": "code",
   "execution_count": 4,
   "metadata": {
    "scrolled": false
   },
   "outputs": [],
   "source": [
    "@solved(unknowns=['pi'], targets=['nkpc'])\n",
    "def pricing(pi, mc, r, Y, kappap, mup):\n",
    "    nkpc = kappap * (mc - 1/mup) + Y(+1) / Y * np.log(1 + pi(+1)) / (1 + r(+1)) - np.log(1 + pi)\n",
    "    return nkpc"
   ]
  },
  {
   "cell_type": "markdown",
   "metadata": {},
   "source": [
    "When our routines encounter a solved block in `block_list`, they compute its Jacobian via the the implicit function theorem, as if it was a SHADE model on its own. Given the Jacobian, the rest of the code applies without modification. "
   ]
  },
  {
   "cell_type": "markdown",
   "metadata": {},
   "source": [
    "### 3.2 Equity price\n",
    "The no arbitrage condition characterizes $(p)$ conditional on $(d, p, r).$\n",
    "\n",
    "$$\n",
    "p_t = \\frac{d_{t+1} + p_{t+1}}{1 + r_{t+1}}\n",
    "$$"
   ]
  },
  {
   "cell_type": "code",
   "execution_count": 5,
   "metadata": {
    "scrolled": true
   },
   "outputs": [],
   "source": [
    "@solved(unknowns=['p'], targets=['equity'])\n",
    "def arbitrage(div, p, r):\n",
    "    equity = div(+1) + p(+1) - p * (1 + r(+1))\n",
    "    return equity"
   ]
  },
  {
   "cell_type": "markdown",
   "metadata": {},
   "source": [
    "### 3.3 Investment with adjustment costs\n",
    "\n",
    "Sometimes multiple equilibrium conditions can be combined in a self-contained solved block. Investment subject to capital adjustment costs is such a case. In particular, we can use the following four equations to solve for $(K, Q)$ conditional on $(Y, w, r)$.\n",
    " \n",
    " - Production:\n",
    " \n",
    " $$\n",
    " Y_t = Z_t K_{t-1}^\\alpha N_t^{1-\\alpha}\n",
    " $$\n",
    " \n",
    " - Labor demand:\n",
    " \n",
    " $$\n",
    " w_t = (1-\\alpha)\\frac{Y_t}{N_t} mc_t\n",
    " $$\n",
    " \n",
    " - Investment equation:\n",
    "\n",
    "$$\n",
    "Q_t = 1 + \\frac{1}{\\delta \\epsilon_I}\\left(\\frac{K_t-K_{t-1}}{K_{t-1}}\\right)\n",
    "$$\n",
    "\n",
    "- Valuation equation\n",
    "\n",
    "$$\n",
    "(1+r_{t})Q_{t} = \\alpha Z_{t+1} \\left(\\frac{N_{t+1}}{K_t}\\right)^{1-\\alpha} mc_{t+1} - \\left[\\frac{K_{t+1}}{K_t} - (1-\\delta) + \\frac{1}{2\\delta \\epsilon_I}\\left(\\frac{K_{t+1} - K_t}{K_t}\\right)^2\\right] + \\frac{K_{t+1}}{K_t}Q_{t+1}\n",
    "$$"
   ]
  },
  {
   "cell_type": "markdown",
   "metadata": {},
   "source": [
    "Solved blocks that contain multiple simple blocks have to be initialized with the `solved_block.solved` function instead of the decorator `@solved`."
   ]
  },
  {
   "cell_type": "code",
   "execution_count": 6,
   "metadata": {},
   "outputs": [],
   "source": [
    "@simple\n",
    "def labor(Y, w, K, Z, alpha):\n",
    "    N = (Y / Z / K(-1) ** alpha) ** (1 / (1 - alpha))\n",
    "    mc = w * N / (1 - alpha) / Y\n",
    "    return N, mc\n",
    "\n",
    "@simple\n",
    "def investment(Q, K, r, N, mc, Z, delta, epsI, alpha):\n",
    "    inv = (K/K(-1) - 1) / (delta * epsI) + 1 - Q\n",
    "    val = alpha * Z(+1) * (N(+1) / K) ** (1-alpha) * mc(+1) - (K(+1)/K -\n",
    "           (1-delta) + (K(+1)/K - 1)**2 / (2*delta*epsI)) + K(+1)/K*Q(+1) - (1 + r(+1))*Q\n",
    "    return inv, val\n",
    "\n",
    "production = solved(block_list=[labor, investment],\n",
    "                    unknowns=['Q', 'K'],\n",
    "                    targets=['inv', 'val'])"
   ]
  },
  {
   "cell_type": "markdown",
   "metadata": {},
   "source": [
    "Making use of these solved blocks, we can write a DAG for this model in just 3 unknowns $(r, w, Y)$ and 3 targets, asset market clearing, fisher equation, wage Phillips curve:\n",
    "\n",
    "![Directed Acyclical Graph](figures/hank2_dag.png) "
   ]
  },
  {
   "cell_type": "markdown",
   "metadata": {},
   "source": [
    "## 4 Determinacy check\n",
    "\n",
    "Let's start by defining the inputs common across our convenience functions. Since computing the Jacobian of this two-asset HA block is somewhat costly, it's a good idea to save it for subsequent use."
   ]
  },
  {
   "cell_type": "code",
   "execution_count": 7,
   "metadata": {},
   "outputs": [],
   "source": [
    "T = 300\n",
    "block_list = [two_asset.household_inc, pricing, arbitrage, production, \n",
    "              dividend, taylor, fiscal, finance, wage, union, mkt_clearing]\n",
    "exogenous = ['rstar', 'Z', 'G']\n",
    "unknowns = ['r', 'w', 'Y']\n",
    "targets = ['asset_mkt', 'fisher', 'wnkpc']"
   ]
  },
  {
   "cell_type": "markdown",
   "metadata": {},
   "source": [
    "We are ready to apply the winding number criterion. Recall that a winding number of 0 indicates that the model has a unique solution around the steady state, while a winding number of -1 or less indicates indeterminacy."
   ]
  },
  {
   "cell_type": "code",
   "execution_count": 8,
   "metadata": {},
   "outputs": [
    {
     "name": "stdout",
     "output_type": "stream",
     "text": [
      "Winding number: 0\n"
     ]
    }
   ],
   "source": [
    "A = jac.get_H_U(block_list, unknowns, targets, T, ss, asymptotic=True, save=True)\n",
    "wn = det.winding_criterion(A)\n",
    "print(f'Winding number: {wn}')"
   ]
  },
  {
   "cell_type": "markdown",
   "metadata": {},
   "source": [
    "## Linearized dynamics\n",
    "\n",
    "Computing $G$ is fast using the saved HA Jacobian."
   ]
  },
  {
   "cell_type": "code",
   "execution_count": 9,
   "metadata": {},
   "outputs": [],
   "source": [
    "G = jac.get_G(block_list, exogenous, unknowns, targets, T=T, ss=ss, use_saved=True)"
   ]
  },
  {
   "cell_type": "markdown",
   "metadata": {},
   "source": [
    "Let's plot some impulse responses:"
   ]
  },
  {
   "cell_type": "code",
   "execution_count": 10,
   "metadata": {
    "scrolled": true
   },
   "outputs": [
    {
     "data": {
      "image/png": "[encoded data removed]",
      "text/plain": [
       "<Figure size 432x288 with 1 Axes>"
      ]
     },
     "metadata": {},
     "output_type": "display_data"
    }
   ],
   "source": [
    "rhos = np.array([0.2, 0.4, 0.6, 0.8])\n",
    "drstar = -0.0025 * rhos ** (np.arange(T)[:, np.newaxis])\n",
    "dY = 100 * G['Y']['rstar'] @ drstar\n",
    "\n",
    "plt.plot(dY[:21])\n",
    "plt.title(r'Output response to 25 bp monetary policy shocks with $\\rho=(0.2 ... 0.8)$')\n",
    "plt.xlabel('quarters')\n",
    "plt.ylabel('% deviation from ss')\n",
    "plt.show()"
   ]
  },
  {
   "cell_type": "markdown",
   "metadata": {},
   "source": [
    "## Nonlinear impulse responses\n",
    "\n",
    "Let's compute the nonlinear impulse response for the $\\rho=0.6$ shock above. (Don't forget to use the saved Jacobian!)"
   ]
  },
  {
   "cell_type": "code",
   "execution_count": 11,
   "metadata": {
    "scrolled": true
   },
   "outputs": [
    {
     "name": "stdout",
     "output_type": "stream",
     "text": [
      "On iteration 0\n",
      "   max error for asset_mkt is 4.22E-06\n",
      "   max error for fisher is 2.50E-03\n",
      "   max error for wnkpc is 6.15E-08\n",
      "On iteration 1\n",
      "   max error for asset_mkt is 2.79E-04\n",
      "   max error for fisher is 1.49E-06\n",
      "   max error for wnkpc is 2.61E-05\n",
      "On iteration 2\n",
      "   max error for asset_mkt is 8.78E-06\n",
      "   max error for fisher is 9.99E-08\n",
      "   max error for wnkpc is 7.67E-07\n",
      "On iteration 3\n",
      "   max error for asset_mkt is 5.15E-07\n",
      "   max error for fisher is 2.62E-09\n",
      "   max error for wnkpc is 2.08E-08\n",
      "On iteration 4\n",
      "   max error for asset_mkt is 3.12E-08\n",
      "   max error for fisher is 1.39E-10\n",
      "   max error for wnkpc is 1.03E-09\n",
      "On iteration 5\n",
      "   max error for asset_mkt is 1.92E-09\n",
      "   max error for fisher is 7.90E-12\n",
      "   max error for wnkpc is 5.64E-11\n"
     ]
    }
   ],
   "source": [
    "td_nonlin = nonlinear.td_solve(ss, block_list, unknowns, targets,\n",
    "                               rstar=ss['r']+drstar[:,2], use_saved=True)"
   ]
  },
  {
   "cell_type": "markdown",
   "metadata": {},
   "source": [
    "We see rapid convergence and mild nonlinearities in the solution."
   ]
  },
  {
   "cell_type": "code",
   "execution_count": 12,
   "metadata": {
    "scrolled": true
   },
   "outputs": [
    {
     "data": {
      "image/png": "[encoded data removed]",
      "text/plain": [
       "<Figure size 432x288 with 1 Axes>"
      ]
     },
     "metadata": {},
     "output_type": "display_data"
    }
   ],
   "source": [
    "dY_nonlin = 100 * (td_nonlin['Y'] - 1) \n",
    "\n",
    "plt.plot(dY[:21, 2], label='linear', linestyle='-', linewidth=2.5)\n",
    "plt.plot(dY_nonlin[:21], label='nonlinear', linestyle='--', linewidth=2.5)\n",
    "plt.title(r'Consumption response to 1% monetary policy shock')\n",
    "plt.xlabel('quarters')\n",
    "plt.ylabel('% deviation from ss')\n",
    "plt.legend()\n",
    "plt.show()"
   ]
  },
  {
   "cell_type": "markdown",
   "metadata": {},
   "source": [
    "Alternatively, we can compute the impulse response to a version of the shock scaled down to 10% of its original size."
   ]
  },
  {
   "cell_type": "code",
   "execution_count": 13,
   "metadata": {},
   "outputs": [
    {
     "name": "stdout",
     "output_type": "stream",
     "text": [
      "On iteration 0\n",
      "   max error for asset_mkt is 4.22E-06\n",
      "   max error for fisher is 2.50E-04\n",
      "   max error for wnkpc is 6.15E-08\n",
      "On iteration 1\n",
      "   max error for asset_mkt is 3.31E-06\n",
      "   max error for fisher is 1.58E-08\n",
      "   max error for wnkpc is 2.56E-06\n",
      "On iteration 2\n",
      "   max error for asset_mkt is 8.70E-08\n",
      "   max error for fisher is 2.67E-10\n",
      "   max error for wnkpc is 7.56E-09\n",
      "On iteration 3\n",
      "   max error for asset_mkt is 9.90E-10\n",
      "   max error for fisher is 1.78E-12\n",
      "   max error for wnkpc is 7.87E-11\n"
     ]
    }
   ],
   "source": [
    "td_nonlin = nonlinear.td_solve(ss, block_list, unknowns, targets,\n",
    "                               rstar=ss['r']+0.1*drstar[:,2], use_saved=True)"
   ]
  },
  {
   "cell_type": "code",
   "execution_count": 14,
   "metadata": {},
   "outputs": [
    {
     "data": {
      "image/png": "[encoded data removed]",
      "text/plain": [
       "<Figure size 432x288 with 1 Axes>"
      ]
     },
     "metadata": {},
     "output_type": "display_data"
    }
   ],
   "source": [
    "dY_nonlin = 100 * (td_nonlin['Y'] - 1) \n",
    "\n",
    "plt.plot(0.1*dY[:21, 2], label='linear', linestyle='-', linewidth=2.5)\n",
    "plt.plot(dY_nonlin[:21], label='nonlinear', linestyle='--', linewidth=2.5)\n",
    "plt.title(r'Consumption response to 0.1% monetary policy shock')\n",
    "plt.xlabel('quarters')\n",
    "plt.ylabel('% deviation from ss')\n",
    "plt.legend()\n",
    "plt.show()"
   ]
  },
  {
   "cell_type": "markdown",
   "metadata": {},
   "source": [
    "When the shock is this small, the linear and nonlinear impulse responses agree exactly. This is a good check, amid a highly complex model, that we didn't make any mistakes."
   ]
  }
 ],
 "metadata": {
  "kernelspec": {
   "display_name": "Python 3",
   "language": "python",
   "name": "python3"
  },
  "language_info": {
   "codemirror_mode": {
    "name": "ipython",
    "version": 3
   },
   "file_extension": ".py",
   "mimetype": "text/x-python",
   "name": "python",
   "nbconvert_exporter": "python",
   "pygments_lexer": "ipython3",
   "version": "3.6.8"
  }
 },
 "nbformat": 4,
 "nbformat_minor": 2
}
